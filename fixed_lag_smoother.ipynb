{
  "nbformat": 4,
  "nbformat_minor": 0,
  "metadata": {
    "colab": {
      "name": "fixed_lag_smoother.ipynb",
      "provenance": [],
      "include_colab_link": true
    },
    "kernelspec": {
      "name": "python3",
      "display_name": "Python 3"
    },
    "language_info": {
      "name": "python"
    }
  },
  "cells": [
    {
      "cell_type": "markdown",
      "metadata": {
        "id": "view-in-github",
        "colab_type": "text"
      },
      "source": [
        "<a href=\"https://colab.research.google.com/github/peterchang0414/hmm-jax/blob/main/fixed_lag_smoother.ipynb\" target=\"_parent\"><img src=\"https://colab.research.google.com/assets/colab-badge.svg\" alt=\"Open In Colab\"/></a>"
      ]
    },
    {
      "cell_type": "markdown",
      "source": [
        "# Fixed Lag Smoother - Unit Tests\n",
        "\n",
        "This notebook demonstrates the following: \n",
        "\n",
        "1. the correctness of a JAX-ified version of fixed lag smoother by comparison of its full-lag smoothed posterior with the results of JSL's implementation of `hmm_forwards_backwards_jax`;\n",
        "\n",
        "2. the improved \"online\" performance of a version that uses a vectorized approach to compute the $\\beta$ values across its sliding window against the one that iteratively smooths backwards inside the window, as implemented in Kevin Murphy's HMM Toolbox for Matlab. \n",
        "\n",
        "The JAX State-Space Models Library (JSL) is available at:\n",
        "https://github.com/probml/JSL\n",
        "\n",
        "Kevin Murphy's Hidden Markov Model (HMM) Toolbox for Matlab is available at:\n",
        "https://www.cs.ubc.ca/~murphyk/Software/HMM/hmm.html\n",
        "\n",
        "Author: Peter G. Chang ([@peterchang0414](https://github.com/peterchang0414))"
      ],
      "metadata": {
        "id": "YNVwtTv8P0bZ"
      }
    },
    {
      "cell_type": "markdown",
      "source": [
        "# 0. Imports"
      ],
      "metadata": {
        "id": "Fob7r0qaR1Nk"
      }
    },
    {
      "cell_type": "code",
      "source": [
        "!pip install -q flax"
      ],
      "metadata": {
        "id": "vR05NbgRYED1",
        "colab": {
          "base_uri": "https://localhost:8080/"
        },
        "outputId": "6488be0e-86fd-42f8-a8e3-fbb6d3897ba8"
      },
      "execution_count": 1,
      "outputs": [
        {
          "output_type": "stream",
          "name": "stdout",
          "text": [
            "\u001b[?25l\r\u001b[K     |█▉                              | 10 kB 16.7 MB/s eta 0:00:01\r\u001b[K     |███▋                            | 20 kB 19.1 MB/s eta 0:00:01\r\u001b[K     |█████▍                          | 30 kB 22.4 MB/s eta 0:00:01\r\u001b[K     |███████▏                        | 40 kB 19.0 MB/s eta 0:00:01\r\u001b[K     |█████████                       | 51 kB 15.5 MB/s eta 0:00:01\r\u001b[K     |██████████▊                     | 61 kB 17.3 MB/s eta 0:00:01\r\u001b[K     |████████████▌                   | 71 kB 16.9 MB/s eta 0:00:01\r\u001b[K     |██████████████▎                 | 81 kB 17.9 MB/s eta 0:00:01\r\u001b[K     |████████████████                | 92 kB 19.6 MB/s eta 0:00:01\r\u001b[K     |█████████████████▉              | 102 kB 18.0 MB/s eta 0:00:01\r\u001b[K     |███████████████████▋            | 112 kB 18.0 MB/s eta 0:00:01\r\u001b[K     |█████████████████████▍          | 122 kB 18.0 MB/s eta 0:00:01\r\u001b[K     |███████████████████████▏        | 133 kB 18.0 MB/s eta 0:00:01\r\u001b[K     |█████████████████████████       | 143 kB 18.0 MB/s eta 0:00:01\r\u001b[K     |██████████████████████████▊     | 153 kB 18.0 MB/s eta 0:00:01\r\u001b[K     |████████████████████████████▌   | 163 kB 18.0 MB/s eta 0:00:01\r\u001b[K     |██████████████████████████████▎ | 174 kB 18.0 MB/s eta 0:00:01\r\u001b[K     |████████████████████████████████| 184 kB 18.0 MB/s \n",
            "\u001b[K     |████████████████████████████████| 140 kB 44.4 MB/s \n",
            "\u001b[K     |████████████████████████████████| 72 kB 434 kB/s \n",
            "\u001b[?25h"
          ]
        }
      ]
    },
    {
      "cell_type": "code",
      "source": [
        "!git clone https://github.com/probml/JSL.git"
      ],
      "metadata": {
        "colab": {
          "base_uri": "https://localhost:8080/"
        },
        "id": "N4P2DsduVbW5",
        "outputId": "bbc90450-d547-4d99-a0f3-980dffa40c65"
      },
      "execution_count": 2,
      "outputs": [
        {
          "output_type": "stream",
          "name": "stdout",
          "text": [
            "Cloning into 'JSL'...\n",
            "remote: Enumerating objects: 1781, done.\u001b[K\n",
            "remote: Counting objects: 100% (1726/1726), done.\u001b[K\n",
            "remote: Compressing objects: 100% (1138/1138), done.\u001b[K\n",
            "remote: Total 1781 (delta 1126), reused 1124 (delta 567), pack-reused 55\u001b[K\n",
            "Receiving objects: 100% (1781/1781), 5.78 MiB | 30.66 MiB/s, done.\n",
            "Resolving deltas: 100% (1145/1145), done.\n"
          ]
        }
      ]
    },
    {
      "cell_type": "code",
      "source": [
        "import sys\n",
        "sys.path.insert(0,'/content/JSL')\n",
        "from jsl.hmm.hmm_lib import HMMJax, hmm_forwards_backwards_jax, normalize"
      ],
      "metadata": {
        "id": "2cHM_Qq4VqCh"
      },
      "execution_count": 28,
      "outputs": []
    },
    {
      "cell_type": "code",
      "source": [
        "from functools import partial\n",
        "\n",
        "import jax.numpy as jnp\n",
        "from jax import vmap\n",
        "from jax import jit\n",
        "from jax.random import PRNGKey, split, choice, uniform"
      ],
      "metadata": {
        "id": "PNu3vU_vXxky"
      },
      "execution_count": 20,
      "outputs": []
    },
    {
      "cell_type": "markdown",
      "source": [
        "First, a quick aside. The current JSL implementation of `normalize` does not work as expected when applied to a rectangular matrix with `axis=1`, as demonstrated by the error raised below:"
      ],
      "metadata": {
        "id": "JwQLLuagdSvu"
      }
    },
    {
      "cell_type": "code",
      "source": [
        "A = jnp.array([[1, 2], [2, 3], [3, 4]])\n",
        "\n",
        "_ = normalize(A, axis=0) # Works as expected\n",
        "# _ = normalize(A, axis=1) # Raises \"Incompatible shapes for broadcasting error\""
      ],
      "metadata": {
        "id": "U2BmOvwfdUql"
      },
      "execution_count": 40,
      "outputs": []
    },
    {
      "cell_type": "markdown",
      "source": [
        "The following implementation fixes the issue by adding `keepdims=True`."
      ],
      "metadata": {
        "id": "KKswVJtgd8AS"
      }
    },
    {
      "cell_type": "code",
      "source": [
        "def normalize(u, axis=0, eps=1e-15):\n",
        "    u = jnp.where(u == 0, 0, jnp.where(u < eps, eps, u))\n",
        "    c = u.sum(axis=axis, keepdims=True)\n",
        "    c = jnp.where(c == 0, 1, c)\n",
        "    return u / c, c\n",
        "\n",
        "_ = normalize(A, axis=1)     # Works as expected"
      ],
      "metadata": {
        "id": "vn0UidP4eGNx"
      },
      "execution_count": 41,
      "outputs": []
    },
    {
      "cell_type": "markdown",
      "source": [
        "# 1. Fixed Lag Smoother - Two Implementations"
      ],
      "metadata": {
        "id": "jbmIOFafYk7b"
      }
    },
    {
      "cell_type": "code",
      "execution_count": 42,
      "metadata": {
        "id": "QDJ7YcaZGSTI"
      },
      "outputs": [],
      "source": [
        "# Naive (un-vectorized) version\n",
        "@partial(jit, static_argnums=(1))\n",
        "def fixed_lag_smoother_iterative(params, win_len, alpha_win, obs_seq_win, obs, act=None):\n",
        "    '''\n",
        "    Computes the smoothed posterior for each state in the lagged window of\n",
        "    fixed size, win_len.\n",
        "\n",
        "    Parameters\n",
        "    ----------\n",
        "    params      : HMMJax\n",
        "        Hidden Markov Model (with action-dependent transition)\n",
        "\n",
        "    win_len     : int\n",
        "        Desired window length (>= 2)\n",
        "    \n",
        "    alpha_win   : array\n",
        "        Alpha values for the most recent win_len steps, excluding current step\n",
        "    \n",
        "    obs_seq_win : array\n",
        "        Observations for the most recent win_len steps, excluding current step\n",
        "    \n",
        "    obs         : int\n",
        "        New observation for the current step\n",
        "    \n",
        "    act         : array\n",
        "        (optional) Actions for the most recent win_len steps, including current step\n",
        "    \n",
        "    Returns\n",
        "    -------\n",
        "    * array(win_len, n_states)\n",
        "        Updated alpha values\n",
        "    \n",
        "    * array(win_len)\n",
        "        Updated observations for the past d steps\n",
        "    \n",
        "    * array(win_len, n_states)\n",
        "        Smoothed posteriors for the past d steps\n",
        "    '''\n",
        "    if len(alpha_win.shape) < 2:\n",
        "        alpha_win = jnp.expand_dims(alpha_win, axis=0)\n",
        "    curr_len = alpha_win.shape[0]\n",
        "    win_len = min(win_len, curr_len+1)\n",
        "    assert win_len >= 2, \"Must keep a window of length at least 2.\"\n",
        "\n",
        "    trans_mat, obs_mat = params.trans_mat, params.obs_mat\n",
        "    n_states, n_obs = obs_mat.shape\n",
        "    \n",
        "    # If trans_mat is independent of action, adjust shape\n",
        "    if len(trans_mat.shape) < 3:\n",
        "        trans_mat = jnp.expand_dims(trans_mat, axis=0)\n",
        "        act = None\n",
        "    if act is None:\n",
        "        act = jnp.zeros(shape=(curr_len+1,), dtype=jnp.int8)\n",
        "\n",
        "    # Shift window forward by 1\n",
        "    if curr_len == win_len:\n",
        "        alpha_win = alpha_win[1:]\n",
        "        obs_seq_win = obs_seq_win[1:]\n",
        "    new_alpha, _ = normalize(\n",
        "        obs_mat[:, obs] * (alpha_win[-1][:, None] * trans_mat[act[-1]]).sum(axis=0)\n",
        "    )\n",
        "    alpha_win = jnp.concatenate((alpha_win, new_alpha[None, :]), axis=0)\n",
        "    obs_seq_win = jnp.append(obs_seq_win, obs)\n",
        "\n",
        "    # Smooth backwards inside the window\n",
        "    beta_win = jnp.ones(shape=(win_len, n_states))\n",
        "    gamma_win = jnp.array(alpha_win)\n",
        "    for t in range(win_len-2, -1, -1):\n",
        "        new_beta, _ = normalize(\n",
        "            (beta_win[t+1,:] * obs_mat[:, obs_seq_win[t+1]] *\n",
        "             trans_mat[act[t]]).sum(axis=1)\n",
        "        )\n",
        "        beta_win = beta_win.at[t, :].set(new_beta)\n",
        "\n",
        "        new_gamma, _ = normalize(alpha_win[t, :]*beta_win[t, :])\n",
        "        gamma_win = gamma_win.at[t, :].set(new_gamma)\n",
        "    return alpha_win, obs_seq_win, beta_win, gamma_win"
      ]
    },
    {
      "cell_type": "code",
      "source": [
        "# Vectorized version\n",
        "@partial(jit, static_argnums=(1))\n",
        "def fixed_lag_smoother_vectorized(params, win_len, alpha_win, bmatrix_win, obs, act=None):\n",
        "    '''\n",
        "    Computes the smoothed posterior for each state in the lagged window of\n",
        "    fixed size, win_len.\n",
        "\n",
        "    Parameters\n",
        "    ----------\n",
        "    params      : HMMJax\n",
        "        Hidden Markov Model (with action-dependent transition)\n",
        "    \n",
        "    win_len     : int\n",
        "        Desired window length (>= 2)\n",
        "    \n",
        "    alpha_win   : array\n",
        "        Alpha values for the most recent win_len steps, excluding current step\n",
        "    \n",
        "    bmatrix_win : array\n",
        "        Beta transformations for the most recent win_len steps, excluding current step\n",
        "    \n",
        "    obs         : int\n",
        "        New observation for the current step\n",
        "    \n",
        "    act         : array\n",
        "        (optional) Actions for the most recent win_len steps, including current step\n",
        "    \n",
        "    Returns\n",
        "    -------\n",
        "    * array(win_len, n_states)\n",
        "        Updated alpha values\n",
        "    \n",
        "    * array(win_len, n_states)\n",
        "        Updated beta transformations\n",
        "    \n",
        "    * array(win_len, n_states)\n",
        "        Smoothed posteriors for the past d steps\n",
        "    '''\n",
        "    if len(alpha_win.shape) < 2:\n",
        "        alpha_win = jnp.expand_dims(alpha_win, axis=0)\n",
        "    curr_len = alpha_win.shape[0]\n",
        "    win_len = min(win_len, curr_len+1)\n",
        "    assert win_len >= 2, \"Must keep a window of length at least 2.\"\n",
        "\n",
        "    trans_mat, obs_mat = params.trans_mat, params.obs_mat\n",
        "    n_states, n_obs = obs_mat.shape\n",
        "    \n",
        "    # If trans_mat is independent of action, adjust shape\n",
        "    if len(trans_mat.shape) < 3:\n",
        "        trans_mat = jnp.expand_dims(trans_mat, axis=0)\n",
        "        act = None\n",
        "    if act is None:\n",
        "        act = jnp.zeros(shape=(curr_len+1,), dtype=jnp.int8)\n",
        "\n",
        "    # Shift window forward by 1\n",
        "    if curr_len == win_len:\n",
        "        alpha_win = alpha_win[1:]\n",
        "        bmatrix_win = bmatrix_win[1:]\n",
        "        \n",
        "    # Perform one forward operation\n",
        "    new_alpha, _ = normalize(\n",
        "        obs_mat[:, obs] * (alpha_win[-1][:, None] * trans_mat[act[-1]]).sum(axis=0)\n",
        "    )\n",
        "    alpha_win = jnp.concatenate((alpha_win, new_alpha[None, :]))\n",
        "\n",
        "    # Smooth inside the window in parallel\n",
        "    def update_bmatrix(bmatrix):\n",
        "        return (bmatrix @ trans_mat[act[-2]]) * obs_mat[:, obs]\n",
        "    bmatrix_win = vmap(update_bmatrix)(bmatrix_win)\n",
        "    bmatrix_win = jnp.concatenate((bmatrix_win, jnp.eye(n_states)[None, :]))\n",
        "    \n",
        "    # Compute beta values by row-summing bmatrices\n",
        "    def get_beta(bmatrix):\n",
        "        return normalize(bmatrix.sum(axis=1))[0]\n",
        "    beta_win = vmap(get_beta)(bmatrix_win)\n",
        "    \n",
        "    # Compute posterior values\n",
        "    gamma_win, _ = normalize(alpha_win * beta_win, axis=1)\n",
        "    return alpha_win, bmatrix_win, gamma_win"
      ],
      "metadata": {
        "id": "6YFXqHP00UmQ"
      },
      "execution_count": 43,
      "outputs": []
    },
    {
      "cell_type": "markdown",
      "source": [
        "# 2. Correctness of Implementation"
      ],
      "metadata": {
        "id": "tEg7cAk0aNAH"
      }
    },
    {
      "cell_type": "markdown",
      "source": [
        "First, we randomly generate a Hidden Markov Model with state space of size 3, observation space of size 5.\n"
      ],
      "metadata": {
        "id": "WXfW503oaXXW"
      }
    },
    {
      "cell_type": "code",
      "source": [
        "num_states = 3\n",
        "num_obs = 5\n",
        "key = PRNGKey(0)\n",
        "\n",
        "# Generate transition matrix\n",
        "trans_mat = uniform(key, shape=(num_states, num_states))\n",
        "trans_mat, _ = normalize(trans_mat, axis=1)\n",
        "key, _ = split(key)\n",
        "\n",
        "# Generate observation likelihood matrix\n",
        "obs_mat = uniform(key, shape=(num_states, num_obs))\n",
        "obs_mat, _ = normalize(obs_mat, axis=1)\n",
        "key, _ = split(key)\n",
        "\n",
        "# Generate uniform random prior\n",
        "prior, _ = normalize(jnp.ones(num_states))\n",
        "\n",
        "# Generate HMM\n",
        "hmm = HMMJax(trans_mat=trans_mat, obs_mat=obs_mat, init_dist=prior)"
      ],
      "metadata": {
        "id": "36-3uX2_a3sC"
      },
      "execution_count": 44,
      "outputs": []
    },
    {
      "cell_type": "markdown",
      "source": [
        "Then, we randomly generate an observed dataset of size 100."
      ],
      "metadata": {
        "id": "Fsi7mh1Ab7E3"
      }
    },
    {
      "cell_type": "code",
      "source": [
        "num_timesteps = 100\n",
        "\n",
        "# Generate random data\n",
        "data = choice(key, num_obs, shape=(num_timesteps,))"
      ],
      "metadata": {
        "id": "hDqPeGlLcLOS"
      },
      "execution_count": 45,
      "outputs": []
    },
    {
      "cell_type": "code",
      "source": [
        ""
      ],
      "metadata": {
        "id": "RjrgZNuQe0DB"
      },
      "execution_count": null,
      "outputs": []
    },
    {
      "cell_type": "code",
      "source": [
        "# Umbrella-rain toy example (AI, A Modern Approach)\n",
        "data = jnp.array([0, 0, 1, 1, 1])\n",
        "transmat = jnp.array([[0.7, 0.3], [0.3, 0.7]])\n",
        "obsmat = jnp.array([[0.9, 0.1], [0.2, 0.8]])\n",
        "prior = jnp.array([0.5, 0.5])\n",
        "\n",
        "hmm = HMMJax(trans_mat=transmat, obs_mat=obsmat, init_dist=prior)"
      ],
      "metadata": {
        "id": "VfXolxcdoyZW",
        "colab": {
          "base_uri": "https://localhost:8080/"
        },
        "outputId": "3244a824-b452-40d5-f026-83e2f7f4605c"
      },
      "execution_count": 6,
      "outputs": [
        {
          "output_type": "stream",
          "name": "stderr",
          "text": [
            "WARNING:absl:No GPU/TPU found, falling back to CPU. (Set TF_CPP_MIN_LOG_LEVEL=0 and rerun for more info.)\n"
          ]
        }
      ]
    },
    {
      "cell_type": "code",
      "source": [
        "# Larger-scale example for time experiments\n",
        "key = PRNGKey(0)\n",
        "data = jax.random.choice(key, 2, shape=(100,))"
      ],
      "metadata": {
        "id": "-XgqOd8FpK07"
      },
      "execution_count": 16,
      "outputs": []
    },
    {
      "cell_type": "code",
      "source": [
        "def get_fixed_lag_smoother_result(params, win_len, data, prior, act=None):\n",
        "    assert data.size > 2, \"Complete observation set must be of size at least 2\"\n",
        "    alpha, _ = normalize(jnp.multiply(prior, obsmat[:, data[0]]))\n",
        "    obs_seq = jnp.array([data[0]])\n",
        "    for obs in data[1:]:\n",
        "        alpha, obs_seq, beta, gamma = fixed_lag_smoother(hmm, win_len, alpha, obs_seq, obs)\n",
        "    return alpha, beta, gamma"
      ],
      "metadata": {
        "id": "PIFlEVelxbIt"
      },
      "execution_count": 17,
      "outputs": []
    },
    {
      "cell_type": "code",
      "source": [
        "def get_fixed_lag_smoother_result_vectorized(params, win_len, data, prior, act=None):\n",
        "    assert data.size > 2, \"Complete observation set must be of size at least 2\"\n",
        "    trans_mat, obs_mat = params.trans_mat, params.obs_mat\n",
        "    n_states, n_obs = obs_mat.shape\n",
        "    alpha, _ = normalize(jnp.multiply(prior, obsmat[:, data[0]]))\n",
        "    bmatrix = jnp.eye(n_states)[None, :]\n",
        "    obs_seq = jnp.array([data[0]])\n",
        "    for obs in data[1:]:\n",
        "        alpha, bmatrix, gamma = fixed_lag_smoother_vectorized(hmm, win_len, alpha, bmatrix, obs)\n",
        "    return alpha, gamma"
      ],
      "metadata": {
        "id": "DE-GHyHs6vqL"
      },
      "execution_count": 18,
      "outputs": []
    },
    {
      "cell_type": "code",
      "source": [
        "%%time\n",
        "*_, gamma = get_fixed_lag_smoother_result(hmm, 20, data, prior)"
      ],
      "metadata": {
        "colab": {
          "base_uri": "https://localhost:8080/"
        },
        "id": "_oQSyRtPOPvI",
        "outputId": "a3a301b9-00ef-4c24-ba90-8cf396499e3d"
      },
      "execution_count": 23,
      "outputs": [
        {
          "output_type": "stream",
          "name": "stdout",
          "text": [
            "CPU times: user 21.8 s, sys: 162 ms, total: 21.9 s\n",
            "Wall time: 21.9 s\n"
          ]
        }
      ]
    },
    {
      "cell_type": "code",
      "source": [
        "%%time\n",
        "*_, gamma_vec = get_fixed_lag_smoother_result_vectorized(hmm, 20, data, prior)"
      ],
      "metadata": {
        "colab": {
          "base_uri": "https://localhost:8080/"
        },
        "id": "16uvHHTQ8L2_",
        "outputId": "ca11a2f6-23d0-49c5-cfed-5c9a428f8a68"
      },
      "execution_count": 25,
      "outputs": [
        {
          "output_type": "stream",
          "name": "stdout",
          "text": [
            "CPU times: user 3.72 s, sys: 39 ms, total: 3.75 s\n",
            "Wall time: 3.72 s\n"
          ]
        }
      ]
    },
    {
      "cell_type": "code",
      "source": [
        "_, _, g, _ = hmm_forwards_backwards_jax(hmm, data)\n",
        "print(g)"
      ],
      "metadata": {
        "colab": {
          "base_uri": "https://localhost:8080/"
        },
        "id": "4Y7D4me5CGlL",
        "outputId": "ea2d086d-94a8-4a85-e3c7-e8feaa6c2967"
      },
      "execution_count": 177,
      "outputs": [
        {
          "output_type": "stream",
          "name": "stdout",
          "text": [
            "[[0.6852272  0.3147728 ]\n",
            " [0.104872   0.8951281 ]\n",
            " [0.08992866 0.9100713 ]\n",
            " [0.51482636 0.48517358]\n",
            " [0.08724132 0.9127587 ]\n",
            " [0.09187889 0.9081211 ]\n",
            " [0.56770897 0.43229103]\n",
            " [0.24101867 0.7589813 ]\n",
            " [0.80832404 0.19167593]\n",
            " [0.8642606  0.13573939]]\n"
          ]
        }
      ]
    },
    {
      "cell_type": "code",
      "source": [
        "key = PRNGKey(0)\n",
        "num_states = 3\n",
        "num_obs = 5\n",
        "num_timesteps = 15\n",
        "\n",
        "data = jax.random.choice(key, num_obs, (num_timesteps,))\n",
        "key, _ = split(key)\n",
        "\n",
        "transmat = jax.random.uniform(key, shape=(num_states, num_states))\n",
        "transmat, _ = normalize(transmat, axis=1)\n",
        "print(transmat)\n",
        "key, _ = split(key)\n",
        "\n",
        "obsmat = jax.random.uniform(key, shape=(num_states, num_obs))\n",
        "obsmat, _ = normalize(obsmat, axis=1)\n",
        "print(obsmat)\n",
        "key, _ = split(key)\n",
        "\n",
        "prior = jnp.array([0.33, 0.33, 0.34])"
      ],
      "metadata": {
        "id": "7W7oRPpIz5-R"
      },
      "execution_count": null,
      "outputs": []
    }
  ]
}