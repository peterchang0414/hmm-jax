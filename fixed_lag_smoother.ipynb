{
  "nbformat": 4,
  "nbformat_minor": 0,
  "metadata": {
    "colab": {
      "name": "fixed_lag_smoother.ipynb",
      "provenance": [],
      "include_colab_link": true
    },
    "kernelspec": {
      "name": "python3",
      "display_name": "Python 3"
    },
    "language_info": {
      "name": "python"
    }
  },
  "cells": [
    {
      "cell_type": "markdown",
      "metadata": {
        "id": "view-in-github",
        "colab_type": "text"
      },
      "source": [
        "<a href=\"https://colab.research.google.com/github/peterchang0414/hmm-jax/blob/main/fixed_lag_smoother.ipynb\" target=\"_parent\"><img src=\"https://colab.research.google.com/assets/colab-badge.svg\" alt=\"Open In Colab\"/></a>"
      ]
    },
    {
      "cell_type": "code",
      "execution_count": 2,
      "metadata": {
        "id": "QDJ7YcaZGSTI"
      },
      "outputs": [],
      "source": [
        "def fixed_lag_smoother(d, alpha, obslik, obsvec, transmt, act):\n",
        "    '''\n",
        "    Description...\n",
        "\n",
        "    Parameters\n",
        "    ----------\n",
        "    d         : int\n",
        "        The desired window length (must be >= 2).\n",
        "    alpha     : array\n",
        "        length d window, excluding t0 (columns indexed 1,..., d)\n",
        "    obslilk   : array\n",
        "        length d window\n",
        "    obsvec    : array\n",
        "        likelihood vector for current observation\n",
        "    transfmat : array\n",
        "        transition matrix\n",
        "    act       : \n",
        "        ()\n",
        "\n",
        "    '''\n",
        "    return 0"
      ]
    },
    {
      "cell_type": "code",
      "source": [
        ""
      ],
      "metadata": {
        "id": "j_U8BhnIIk74"
      },
      "execution_count": null,
      "outputs": []
    }
  ]
}